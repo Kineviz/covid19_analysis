{
 "cells": [
  {
   "cell_type": "markdown",
   "metadata": {},
   "source": [
    "## SARS-CoV-2 gene mutation analysis\n",
    "1. Get auspice/ncov.json from:\n",
    "1. https://nextstrain.org/ncov\n",
    "1. https://github.com/nextstrain/ncov\n",
    "1. Run this script\n",
    "1. Import to GraphXRNext/SARS-CoV-2\n",
    "1. Extract (Location)-[:from_location]-(Sample)\n",
    "1. Aggregate (Sum) to Location  \n",
    "Weidong Yang  \n",
    "2020-0301"
   ]
  },
  {
   "cell_type": "code",
   "execution_count": 1,
   "metadata": {
    "code_folding": [
     0
    ]
   },
   "outputs": [],
   "source": [
    "# init code\n",
    "%matplotlib inline \n",
    "\n",
    "import pandas as pd\n",
    "import matplotlib.pyplot as plt\n",
    "import math\n",
    "import string\n",
    "\n",
    "import json\n",
    "\n",
    "# define functions\n",
    "def parseTr(din):\n",
    "    node = {}\n",
    "    node['name'] = din['name']\n",
    "    attrs = din['node_attrs']\n",
    "    node['div'] = attrs['div']\n",
    "    node['num_date'] = attrs['num_date']['value']\n",
    "    attKeys=attrs.keys()\n",
    "    if 'country' in attKeys:\n",
    "        node['country'] = attrs['country']['value']\n",
    "        node['lat']=country[attrs['country']['value']]['latitude']\n",
    "        node['lon']=country[attrs['country']['value']]['longitude']\n",
    "    if 'division' in attKeys: # division is not a good location indicator, it has confidence that we need to parse\n",
    "        node['division'] = attrs['division']['value']\n",
    "#         node['lat']=division[attrs['division']['value']]['latitude']\n",
    "#         node['lon']=division[attrs['division']['value']]['longitude']\n",
    "    if 'location' in attKeys:\n",
    "        loc = attrs['location']['value']\n",
    "        node['location'] = loc\n",
    "        if loc in location.keys():\n",
    "            node['lat']=location[attrs['location']['value']]['latitude']\n",
    "            node['lon']=location[attrs['location']['value']]['longitude']\n",
    "        else:\n",
    "            print(loc, \"not found\")\n",
    "        \n",
    "    keys = din.keys()\n",
    "    if 'children' in keys:\n",
    "        node['children'] = [parseTr(child) for child in din['children']]\n",
    "    return node\n",
    "\n",
    "\n",
    "def setType(dict0):\n",
    "    if 'children' in dict0.keys():\n",
    "        children = dict0['children']\n",
    "        for child in children:\n",
    "            setType(child)\n",
    "        samples = [child for child in children if 'lat' in child.keys()]\n",
    "        branches = [child for child in children if 'lat' not in child.keys()]\n",
    "        if len(samples) > 0:\n",
    "            dict0['samples'] = samples\n",
    "        if len(branches) > 0:\n",
    "            dict0['branches'] = branches\n",
    "        del(dict0['children'])\n"
   ]
  },
  {
   "cell_type": "code",
   "execution_count": 2,
   "metadata": {},
   "outputs": [],
   "source": [
    "with open('data/ncov.json') as f:\n",
    "  data = json.load(f)\n",
    "\n",
    "geo_resolutions=data['meta']['geo_resolutions']\n",
    "\n",
    "for res in geo_resolutions:\n",
    "    if res['key'] == 'country':\n",
    "        country = res['demes']\n",
    "    elif res['key'] == 'location':\n",
    "        location = res['demes']\n",
    "    elif res['key'] == 'division':\n",
    "        division = res['demes']\n",
    "    else:\n",
    "        print('key not found')\n",
    "\n",
    "tr=data['tree']\n",
    "\n",
    "dout=parseTr(tr)"
   ]
  },
  {
   "cell_type": "code",
   "execution_count": 3,
   "metadata": {},
   "outputs": [],
   "source": [
    "setType(dout)\n",
    "\n",
    "dout\n",
    "\n",
    "with open('output/data.json', 'w') as outfile:\n",
    "    json.dump({'branch': dout}, outfile)"
   ]
  },
  {
   "cell_type": "code",
   "execution_count": null,
   "metadata": {},
   "outputs": [],
   "source": []
  }
 ],
 "metadata": {
  "kernelspec": {
   "display_name": "Python 3",
   "language": "python",
   "name": "python3"
  },
  "language_info": {
   "codemirror_mode": {
    "name": "ipython",
    "version": 3
   },
   "file_extension": ".py",
   "mimetype": "text/x-python",
   "name": "python",
   "nbconvert_exporter": "python",
   "pygments_lexer": "ipython3",
   "version": "3.7.4"
  },
  "varInspector": {
   "cols": {
    "lenName": 16,
    "lenType": 16,
    "lenVar": 40
   },
   "kernels_config": {
    "python": {
     "delete_cmd_postfix": "",
     "delete_cmd_prefix": "del ",
     "library": "var_list.py",
     "varRefreshCmd": "print(var_dic_list())"
    },
    "r": {
     "delete_cmd_postfix": ") ",
     "delete_cmd_prefix": "rm(",
     "library": "var_list.r",
     "varRefreshCmd": "cat(var_dic_list()) "
    }
   },
   "types_to_exclude": [
    "module",
    "function",
    "builtin_function_or_method",
    "instance",
    "_Feature"
   ],
   "window_display": false
  }
 },
 "nbformat": 4,
 "nbformat_minor": 2
}
